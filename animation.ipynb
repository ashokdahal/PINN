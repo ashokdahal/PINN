{
 "cells": [
  {
   "cell_type": "code",
   "execution_count": null,
   "metadata": {},
   "outputs": [],
   "source": [
    "import rasterio.plot\n",
    "from rasterio.plot import show_hist\n",
    "from matplotlib import pyplot\n",
    "import imageio\n",
    "from tqdm import tqdm     # progress bar\n",
    "import numpy\n",
    "import matplotlib.patheffects as pe\n",
    "import glob"
   ]
  },
  {
   "cell_type": "code",
   "execution_count": null,
   "metadata": {},
   "outputs": [],
   "source": [
    "output='GeoTechnicaAnimationv5.gif'\n",
    "files=glob.glob('animation/*.png',recursive=True)\n",
    "print(f\" There are {len(files)} Images\")\n",
    "with imageio.get_writer(output, mode='I',fps=5) as writer:\n",
    "    for i in range(5):\n",
    "        image = imageio.imread('animation/0.png')\n",
    "        writer.append_data(image)\n",
    "    files.remove('animation/0.png')\n",
    "    for file in files:\n",
    "        image = imageio.imread(file)\n",
    "        writer.append_data(image)\n"
   ]
  },
  {
   "cell_type": "code",
   "execution_count": null,
   "metadata": {},
   "outputs": [],
   "source": [
    "import imageio\n",
    "from PIL import Image\n",
    "output = 'GeoTechnicaAnimation_lowv5.gif'\n",
    "files=glob.glob('animation/*.png',recursive=True)\n",
    "print(f\" There are {len(files)} Images\")\n",
    "with imageio.get_writer(output, mode='I', fps=5) as writer:\n",
    "    for i in range(5):\n",
    "        image = imageio.imread('animation/0.png')\n",
    "        # Convert to PIL Image for resizing\n",
    "        pil_image = Image.fromarray(image)\n",
    "        # Resize the image to lower its DPI\n",
    "        new_size = (int(pil_image.width * 0.25), int(pil_image.height * 0.25))  # Adjust the scale factor as needed\n",
    "        resized_image = pil_image.resize(new_size, Image.LANCZOS)\n",
    "        writer.append_data(resized_image)  # Append resized image\n",
    "    files.remove('animation/0.png')\n",
    "    for file in files:\n",
    "        image = imageio.imread(file)\n",
    "        # Convert to PIL Image for resizing\n",
    "        pil_image = Image.fromarray(image)\n",
    "        new_size = (int(pil_image.width * 0.25), int(pil_image.height * 0.25))  # Adjust the scale factor as needed\n",
    "        resized_image = pil_image.resize(new_size, Image.LANCZOS)\n",
    "        writer.append_data(resized_image)  # Append resized image"
   ]
  },
  {
   "cell_type": "code",
   "execution_count": null,
   "metadata": {},
   "outputs": [],
   "source": [
    "import imageio\n",
    "from PIL import Image\n",
    "import numpy as np\n",
    "output = 'GeoTechnicaAnimation_lowv5.mp4'\n",
    "files=glob.glob('animation/*.png',recursive=True)\n",
    "print(f\" There are {len(files)} Images\")\n",
    "with imageio.get_writer(output, mode='I', fps=5) as writer:\n",
    "    for i in range(5):\n",
    "        image = imageio.imread('animation/0.png')\n",
    "        # Convert to PIL Image for resizing\n",
    "        pil_image = Image.fromarray(image)\n",
    "        # Resize the image to lower its DPI\n",
    "        new_size = (int(pil_image.width * 0.25), int(pil_image.height * 0.25))  # Adjust the scale factor as needed\n",
    "        resized_image = pil_image.resize(new_size, Image.LANCZOS)\n",
    "        writer.append_data(np.array(resized_image))  # Append resized image\n",
    "    files.remove('animation/0.png')\n",
    "    for file in tqdm(files):           \n",
    "        image = imageio.imread(file)\n",
    "        # Convert to PIL Image for resizing\n",
    "        pil_image = Image.fromarray(image)\n",
    "        new_size = (int(pil_image.width * 0.25), int(pil_image.height * 0.25))  # Adjust the scale factor as needed\n",
    "        resized_image = pil_image.resize(new_size, Image.LANCZOS)\n",
    "        writer.append_data(np.array(resized_image))  # Append resized image"
   ]
  },
  {
   "cell_type": "code",
   "execution_count": null,
   "metadata": {},
   "outputs": [],
   "source": []
  }
 ],
 "metadata": {
  "kernelspec": {
   "display_name": "dlgeo",
   "language": "python",
   "name": "python3"
  },
  "language_info": {
   "codemirror_mode": {
    "name": "ipython",
    "version": 3
   },
   "file_extension": ".py",
   "mimetype": "text/x-python",
   "name": "python",
   "nbconvert_exporter": "python",
   "pygments_lexer": "ipython3",
   "version": "3.10.0"
  }
 },
 "nbformat": 4,
 "nbformat_minor": 2
}
